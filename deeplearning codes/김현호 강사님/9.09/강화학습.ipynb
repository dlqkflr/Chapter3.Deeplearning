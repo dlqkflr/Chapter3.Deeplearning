{
 "cells": [
  {
   "cell_type": "code",
   "execution_count": 1,
   "metadata": {},
   "outputs": [],
   "source": [
    "import numpy as np\n",
    "import matplotlib.pyplot as plt \n",
    "%matplotlib inline"
   ]
  },
  {
   "cell_type": "code",
   "execution_count": 8,
   "metadata": {},
   "outputs": [],
   "source": [
    "Q= np.zeros([25,4])\n",
    "Qs = []\n",
    "gamma = 0.99"
   ]
  },
  {
   "cell_type": "code",
   "execution_count": 9,
   "metadata": {},
   "outputs": [
    {
     "data": {
      "text/plain": [
       "array([[0., 0., 0., 0.],\n",
       "       [0., 0., 0., 0.],\n",
       "       [0., 0., 0., 0.],\n",
       "       [0., 0., 0., 0.],\n",
       "       [0., 0., 0., 0.],\n",
       "       [0., 0., 0., 0.],\n",
       "       [0., 0., 0., 0.],\n",
       "       [0., 0., 0., 0.],\n",
       "       [0., 0., 0., 0.],\n",
       "       [0., 0., 0., 0.],\n",
       "       [0., 0., 0., 0.],\n",
       "       [0., 0., 0., 0.],\n",
       "       [0., 0., 0., 0.],\n",
       "       [0., 0., 0., 0.],\n",
       "       [0., 0., 0., 0.],\n",
       "       [0., 0., 0., 0.],\n",
       "       [0., 0., 0., 0.],\n",
       "       [0., 0., 0., 0.],\n",
       "       [0., 0., 0., 0.],\n",
       "       [0., 0., 0., 0.],\n",
       "       [0., 0., 0., 0.],\n",
       "       [0., 0., 0., 0.],\n",
       "       [0., 0., 0., 0.],\n",
       "       [0., 0., 0., 0.],\n",
       "       [0., 0., 0., 0.]])"
      ]
     },
     "execution_count": 9,
     "metadata": {},
     "output_type": "execute_result"
    }
   ],
   "source": [
    "Q"
   ]
  },
  {
   "cell_type": "code",
   "execution_count": 74,
   "metadata": {},
   "outputs": [],
   "source": [
    "wall = [1,6,15,16,17,18,13,8]"
   ]
  },
  {
   "cell_type": "code",
   "execution_count": 75,
   "metadata": {},
   "outputs": [],
   "source": [
    "def valid_action(s,a) :\n",
    "    if s//5 == 0  and a== 0 : return False #맨위에 칸에 0번 방향(윗쪽) 은 false\n",
    "    if s//5 == 4 and a== 1: return False # 맨 밑에 쪽에 있는  1번방향(아랫쪽) 은 false\n",
    "    if s%5 == 0 and a== 2: return False #맨 왼쪽 같에 있는 2번방향 (왼쪽)은 false\n",
    "    if s%5 == 4 and a== 3: return False #맨 오른쪽에 있는 3번방향(오른쪽)은 false\n",
    "    if s in wall  : return False\n",
    "    return True"
   ]
  },
  {
   "cell_type": "code",
   "execution_count": 90,
   "metadata": {},
   "outputs": [],
   "source": [
    "Q= np.zeros([25,4])\n",
    "Qs = []\n",
    "gamma = 0.9\n",
    "\n",
    "s = 0\n",
    "ds = [-5,5,-1,1] # 위치 옮기기 \n",
    "\n",
    "for epoch in range(100):\n",
    "    for s in range(25):\n",
    "        if s == 24: #마지막 셀일 경우\n",
    "            Q[s] = 1\n",
    "            continue\n",
    "            \n",
    "        for a in range(4):\n",
    "            if not valid_action(s,a): continue\n",
    "            s_new = s + ds[a]  #위치값 수정하기\n",
    "            Q[s,a] = 0 + gamma*np.max(Q[s_new])\n",
    "            \n",
    "    Qs.append(Q.copy())"
   ]
  },
  {
   "cell_type": "code",
   "execution_count": 91,
   "metadata": {},
   "outputs": [
    {
     "data": {
      "text/plain": [
       "array([[0.        , 0.28242954, 0.        , 0.        ],\n",
       "       [0.        , 0.        , 0.        , 0.        ],\n",
       "       [0.        , 0.43046721, 0.        , 0.531441  ],\n",
       "       [0.        , 0.        , 0.4782969 , 0.59049   ],\n",
       "       [0.        , 0.6561    , 0.531441  , 0.        ],\n",
       "       [0.25418658, 0.3138106 , 0.        , 0.        ],\n",
       "       [0.        , 0.        , 0.        , 0.        ],\n",
       "       [0.4782969 , 0.38742049, 0.        , 0.        ],\n",
       "       [0.        , 0.        , 0.        , 0.        ],\n",
       "       [0.59049   , 0.729     , 0.        , 0.        ],\n",
       "       [0.28242954, 0.        , 0.        , 0.34867844],\n",
       "       [0.        , 0.        , 0.3138106 , 0.38742049],\n",
       "       [0.43046721, 0.        , 0.34867844, 0.        ],\n",
       "       [0.        , 0.        , 0.        , 0.        ],\n",
       "       [0.6561    , 0.81      , 0.        , 0.        ],\n",
       "       [0.        , 0.        , 0.        , 0.        ],\n",
       "       [0.        , 0.        , 0.        , 0.        ],\n",
       "       [0.        , 0.        , 0.        , 0.        ],\n",
       "       [0.        , 0.        , 0.        , 0.        ],\n",
       "       [0.729     , 0.9       , 0.        , 0.        ],\n",
       "       [0.        , 0.        , 0.        , 0.6561    ],\n",
       "       [0.        , 0.        , 0.59049   , 0.729     ],\n",
       "       [0.        , 0.        , 0.6561    , 0.81      ],\n",
       "       [0.        , 0.        , 0.729     , 0.9       ],\n",
       "       [1.        , 1.        , 1.        , 1.        ]])"
      ]
     },
     "execution_count": 91,
     "metadata": {},
     "output_type": "execute_result"
    }
   ],
   "source": [
    "Qs[99]"
   ]
  },
  {
   "cell_type": "code",
   "execution_count": 92,
   "metadata": {},
   "outputs": [],
   "source": [
    "fa = []\n",
    "for i in range(25):\n",
    "    fa.append(max(Qs[99][i]))"
   ]
  },
  {
   "cell_type": "code",
   "execution_count": 93,
   "metadata": {},
   "outputs": [],
   "source": [
    "Q_val= np.array(fa).reshape(5,5)"
   ]
  },
  {
   "cell_type": "code",
   "execution_count": 94,
   "metadata": {},
   "outputs": [
    {
     "data": {
      "text/html": [
       "<div>\n",
       "<style scoped>\n",
       "    .dataframe tbody tr th:only-of-type {\n",
       "        vertical-align: middle;\n",
       "    }\n",
       "\n",
       "    .dataframe tbody tr th {\n",
       "        vertical-align: top;\n",
       "    }\n",
       "\n",
       "    .dataframe thead th {\n",
       "        text-align: right;\n",
       "    }\n",
       "</style>\n",
       "<table border=\"1\" class=\"dataframe\">\n",
       "  <thead>\n",
       "    <tr style=\"text-align: right;\">\n",
       "      <th></th>\n",
       "      <th>0</th>\n",
       "      <th>1</th>\n",
       "      <th>2</th>\n",
       "      <th>3</th>\n",
       "      <th>4</th>\n",
       "    </tr>\n",
       "  </thead>\n",
       "  <tbody>\n",
       "    <tr>\n",
       "      <td>0</td>\n",
       "      <td>0.282430</td>\n",
       "      <td>0.00000</td>\n",
       "      <td>0.531441</td>\n",
       "      <td>0.59049</td>\n",
       "      <td>0.6561</td>\n",
       "    </tr>\n",
       "    <tr>\n",
       "      <td>1</td>\n",
       "      <td>0.313811</td>\n",
       "      <td>0.00000</td>\n",
       "      <td>0.478297</td>\n",
       "      <td>0.00000</td>\n",
       "      <td>0.7290</td>\n",
       "    </tr>\n",
       "    <tr>\n",
       "      <td>2</td>\n",
       "      <td>0.348678</td>\n",
       "      <td>0.38742</td>\n",
       "      <td>0.430467</td>\n",
       "      <td>0.00000</td>\n",
       "      <td>0.8100</td>\n",
       "    </tr>\n",
       "    <tr>\n",
       "      <td>3</td>\n",
       "      <td>0.000000</td>\n",
       "      <td>0.00000</td>\n",
       "      <td>0.000000</td>\n",
       "      <td>0.00000</td>\n",
       "      <td>0.9000</td>\n",
       "    </tr>\n",
       "    <tr>\n",
       "      <td>4</td>\n",
       "      <td>0.656100</td>\n",
       "      <td>0.72900</td>\n",
       "      <td>0.810000</td>\n",
       "      <td>0.90000</td>\n",
       "      <td>1.0000</td>\n",
       "    </tr>\n",
       "  </tbody>\n",
       "</table>\n",
       "</div>"
      ],
      "text/plain": [
       "          0        1         2        3       4\n",
       "0  0.282430  0.00000  0.531441  0.59049  0.6561\n",
       "1  0.313811  0.00000  0.478297  0.00000  0.7290\n",
       "2  0.348678  0.38742  0.430467  0.00000  0.8100\n",
       "3  0.000000  0.00000  0.000000  0.00000  0.9000\n",
       "4  0.656100  0.72900  0.810000  0.90000  1.0000"
      ]
     },
     "execution_count": 94,
     "metadata": {},
     "output_type": "execute_result"
    }
   ],
   "source": [
    "import pandas as pd\n",
    "df = pd.DataFrame(Q_val)\n",
    "df\n"
   ]
  },
  {
   "cell_type": "code",
   "execution_count": 95,
   "metadata": {},
   "outputs": [
    {
     "data": {
      "image/png": "[encoded data removed]",
      "text/plain": [
       "<Figure size 432x288 with 2 Axes>"
      ]
     },
     "metadata": {
      "needs_background": "light"
     },
     "output_type": "display_data"
    }
   ],
   "source": [
    "# heatmap by plt.pcolor()\n",
    "\n",
    "plt.pcolor(df)\n",
    "\n",
    "plt.xticks(np.arange(1, len(df.columns), 1), df.columns)\n",
    "\n",
    "plt.yticks(np.arange(1, len(df.index), 1), df.index)\n",
    "\n",
    "plt.title('Heatmap by plt.pcolor()', fontsize=20)\n",
    "\n",
    "plt.xlabel('Year', fontsize=14)\n",
    "\n",
    "plt.ylabel('Month', fontsize=14)\n",
    "\n",
    "plt.colorbar()\n",
    "\n",
    "\n",
    "\n",
    "plt.show()\n",
    "\n"
   ]
  },
  {
   "cell_type": "code",
   "execution_count": 96,
   "metadata": {},
   "outputs": [
    {
     "data": {
      "text/plain": [
       "<matplotlib.colorbar.Colorbar at 0x134bd2c2630>"
      ]
     },
     "execution_count": 96,
     "metadata": {},
     "output_type": "execute_result"
    },
    {
     "data": {
      "image/png": "[encoded data removed]",
      "text/plain": [
       "<Figure size 432x288 with 2 Axes>"
      ]
     },
     "metadata": {
      "needs_background": "light"
     },
     "output_type": "display_data"
    }
   ],
   "source": [
    "plt.imshow(Q.max(axis=1).reshape(5,5))\n",
    "plt.colorbar()"
   ]
  },
  {
   "cell_type": "code",
   "execution_count": 97,
   "metadata": {},
   "outputs": [],
   "source": [
    "def valid_action(s,a) :\n",
    "    if s//5 == 0  and a== 0 : return False #맨위에 칸에 0번 방향(윗쪽) 은 false\n",
    "    if s//5 == 4 and a== 1: return False # 맨 밑에 쪽에 있는  1번방향(아랫쪽) 은 false\n",
    "    if s%5 == 0 and a== 2: return False #맨 왼쪽 같에 있는 2번방향 (왼쪽)은 false\n",
    "    if s%5 == 4 and a== 3: return False #맨 오른쪽에 있는 3번방향(오른쪽)은 false\n",
    "    if s in wall or (s+ds[a] in wall) : return False\n",
    "    return True"
   ]
  },
  {
   "cell_type": "code",
   "execution_count": 98,
   "metadata": {},
   "outputs": [],
   "source": [
    "Q= np.zeros([25,4])\n",
    "Qs = []\n",
    "gamma = 0.9\n",
    "\n",
    "s = 0\n",
    "ds = [-5,5,-1,1] # 위치 옮기기 \n",
    "\n",
    "for epoch in range(100):\n",
    "    for s in range(25):\n",
    "        if s == 24: #마지막 셀일 경우\n",
    "            Q[s] = 1\n",
    "            continue\n",
    "            \n",
    "        for a in range(4):\n",
    "            if not valid_action(s,a): continue\n",
    "            s_new = s + ds[a]  #위치값 수정하기\n",
    "            Q[s,a] = 0 + gamma*np.max(Q[s_new])\n",
    "            \n",
    "    Qs.append(Q.copy())"
   ]
  },
  {
   "cell_type": "code",
   "execution_count": 99,
   "metadata": {},
   "outputs": [
    {
     "data": {
      "text/plain": [
       "array([[0.        , 0.28242954, 0.        , 0.        ],\n",
       "       [0.        , 0.        , 0.        , 0.        ],\n",
       "       [0.        , 0.43046721, 0.        , 0.531441  ],\n",
       "       [0.        , 0.        , 0.4782969 , 0.59049   ],\n",
       "       [0.        , 0.6561    , 0.531441  , 0.        ],\n",
       "       [0.25418658, 0.3138106 , 0.        , 0.        ],\n",
       "       [0.        , 0.        , 0.        , 0.        ],\n",
       "       [0.4782969 , 0.38742049, 0.        , 0.        ],\n",
       "       [0.        , 0.        , 0.        , 0.        ],\n",
       "       [0.59049   , 0.729     , 0.        , 0.        ],\n",
       "       [0.28242954, 0.        , 0.        , 0.34867844],\n",
       "       [0.        , 0.        , 0.3138106 , 0.38742049],\n",
       "       [0.43046721, 0.        , 0.34867844, 0.        ],\n",
       "       [0.        , 0.        , 0.        , 0.        ],\n",
       "       [0.6561    , 0.81      , 0.        , 0.        ],\n",
       "       [0.        , 0.        , 0.        , 0.        ],\n",
       "       [0.        , 0.        , 0.        , 0.        ],\n",
       "       [0.        , 0.        , 0.        , 0.        ],\n",
       "       [0.        , 0.        , 0.        , 0.        ],\n",
       "       [0.729     , 0.9       , 0.        , 0.        ],\n",
       "       [0.        , 0.        , 0.        , 0.6561    ],\n",
       "       [0.        , 0.        , 0.59049   , 0.729     ],\n",
       "       [0.        , 0.        , 0.6561    , 0.81      ],\n",
       "       [0.        , 0.        , 0.729     , 0.9       ],\n",
       "       [1.        , 1.        , 1.        , 1.        ]])"
      ]
     },
     "execution_count": 99,
     "metadata": {},
     "output_type": "execute_result"
    }
   ],
   "source": [
    "Qs[99]\n"
   ]
  },
  {
   "cell_type": "code",
   "execution_count": null,
   "metadata": {},
   "outputs": [],
   "source": []
  }
 ],
 "metadata": {
  "kernelspec": {
   "display_name": "Python 3",
   "language": "python",
   "name": "python3"
  },
  "language_info": {
   "codemirror_mode": {
    "name": "ipython",
    "version": 3
   },
   "file_extension": ".py",
   "mimetype": "text/x-python",
   "name": "python",
   "nbconvert_exporter": "python",
   "pygments_lexer": "ipython3",
   "version": "3.7.3"
  }
 },
 "nbformat": 4,
 "nbformat_minor": 2
}
